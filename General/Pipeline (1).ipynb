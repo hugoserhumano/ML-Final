{
 "cells": [
  {
   "cell_type": "markdown",
   "id": "f63515eb-1db4-430f-a4a2-0e14dee0b731",
   "metadata": {},
   "source": [
    "# Machine Learning Project"
   ]
  },
  {
   "cell_type": "markdown",
   "id": "0fb3c51f-30bd-458d-8d4c-485f124559e6",
   "metadata": {},
   "source": [
    "## Frame The Problem"
   ]
  },
  {
   "cell_type": "code",
   "execution_count": null,
   "id": "ac19211a-75aa-494d-8a14-1b5a6c371fe1",
   "metadata": {},
   "outputs": [],
   "source": []
  },
  {
   "cell_type": "markdown",
   "id": "d1df4d31-d9e9-4ead-8e4a-2c3d716bb4b3",
   "metadata": {},
   "source": [
    "## Select a Performance Measure"
   ]
  },
  {
   "cell_type": "code",
   "execution_count": null,
   "id": "12868b48-63c0-4849-8c56-7b38f39e731c",
   "metadata": {},
   "outputs": [],
   "source": []
  },
  {
   "cell_type": "markdown",
   "id": "1c5bcd5f-ed83-44be-8595-67ef17c5b4b6",
   "metadata": {},
   "source": [
    "## Check the assumptions"
   ]
  },
  {
   "cell_type": "code",
   "execution_count": null,
   "id": "6c2bbcd1-132d-40c2-9571-2e05b7070184",
   "metadata": {},
   "outputs": [],
   "source": []
  },
  {
   "cell_type": "markdown",
   "id": "0817fe86-f66b-456c-b305-f09a5602aa8c",
   "metadata": {},
   "source": [
    "## Get the data (Data Curation)"
   ]
  },
  {
   "cell_type": "code",
   "execution_count": null,
   "id": "d4d6e52e-e040-4a8a-b05b-5bbe49f7b1ee",
   "metadata": {},
   "outputs": [],
   "source": []
  },
  {
   "cell_type": "markdown",
   "id": "1138d5e9-171a-4be9-a389-7d6f8cf5ff03",
   "metadata": {},
   "source": [
    "## EDA (Exploratoy Data Analysis)"
   ]
  },
  {
   "cell_type": "code",
   "execution_count": null,
   "id": "52a06d42-c7b3-4cfb-8b35-73acb9354513",
   "metadata": {},
   "outputs": [],
   "source": []
  },
  {
   "cell_type": "markdown",
   "id": "45c7ae60-16b7-4320-87c7-980d66a9d4e6",
   "metadata": {
    "tags": []
   },
   "source": [
    "## Prepare data for machine Learning"
   ]
  },
  {
   "cell_type": "code",
   "execution_count": null,
   "id": "cb141e1e-f036-4081-8a00-e0eeed21ab52",
   "metadata": {},
   "outputs": [],
   "source": []
  },
  {
   "cell_type": "markdown",
   "id": "39084cee-d93e-466e-8c9d-439d4d9f0816",
   "metadata": {},
   "source": [
    "### Select and train a model"
   ]
  },
  {
   "cell_type": "code",
   "execution_count": null,
   "id": "21cc34a9-b261-4431-8265-bf8f22ca71b7",
   "metadata": {},
   "outputs": [],
   "source": []
  },
  {
   "cell_type": "markdown",
   "id": "d2f52e07-b88b-40f5-aa87-c6a40e533280",
   "metadata": {},
   "source": [
    "### Evaluating the model"
   ]
  },
  {
   "cell_type": "code",
   "execution_count": null,
   "id": "cc6a5547-3a43-4f88-a6a7-ea2e4ee1cace",
   "metadata": {},
   "outputs": [],
   "source": []
  }
 ],
 "metadata": {
  "kernelspec": {
   "display_name": "Python 3 (ipykernel)",
   "language": "python",
   "name": "python3"
  },
  "language_info": {
   "codemirror_mode": {
    "name": "ipython",
    "version": 3
   },
   "file_extension": ".py",
   "mimetype": "text/x-python",
   "name": "python",
   "nbconvert_exporter": "python",
   "pygments_lexer": "ipython3",
   "version": "3.9.16"
  }
 },
 "nbformat": 4,
 "nbformat_minor": 5
}
