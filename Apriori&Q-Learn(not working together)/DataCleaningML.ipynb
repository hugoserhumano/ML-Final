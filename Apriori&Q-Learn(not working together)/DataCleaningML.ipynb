{
 "cells": [
  {
   "cell_type": "code",
   "execution_count": 1,
   "id": "6ba15f66-5a50-4266-89c7-6054db29fa25",
   "metadata": {},
   "outputs": [
    {
     "data": {
      "text/html": [
       "<div>\n",
       "<style scoped>\n",
       "    .dataframe tbody tr th:only-of-type {\n",
       "        vertical-align: middle;\n",
       "    }\n",
       "\n",
       "    .dataframe tbody tr th {\n",
       "        vertical-align: top;\n",
       "    }\n",
       "\n",
       "    .dataframe thead th {\n",
       "        text-align: right;\n",
       "    }\n",
       "</style>\n",
       "<table border=\"1\" class=\"dataframe\">\n",
       "  <thead>\n",
       "    <tr style=\"text-align: right;\">\n",
       "      <th></th>\n",
       "      <th>client</th>\n",
       "      <th>delivery_place</th>\n",
       "      <th>date</th>\n",
       "      <th>product</th>\n",
       "      <th>product_description</th>\n",
       "      <th>measure</th>\n",
       "      <th>quantity</th>\n",
       "      <th>is_internal_client</th>\n",
       "      <th>warehouse_zone</th>\n",
       "      <th>product_type</th>\n",
       "      <th>product_subtype</th>\n",
       "      <th>order_id</th>\n",
       "    </tr>\n",
       "  </thead>\n",
       "  <tbody>\n",
       "    <tr>\n",
       "      <th>0</th>\n",
       "      <td>1128254</td>\n",
       "      <td>6346669</td>\n",
       "      <td>2023-01-06</td>\n",
       "      <td>126898</td>\n",
       "      <td>AGUA DAS PEDRAS SALGADAS 6x0.33 PET</td>\n",
       "      <td>UN</td>\n",
       "      <td>600.0</td>\n",
       "      <td>Não</td>\n",
       "      <td>AMB</td>\n",
       "      <td>Bebidas</td>\n",
       "      <td>Aguas Minerais</td>\n",
       "      <td>1</td>\n",
       "    </tr>\n",
       "    <tr>\n",
       "      <th>1</th>\n",
       "      <td>1001096</td>\n",
       "      <td>6001131</td>\n",
       "      <td>2023-01-03</td>\n",
       "      <td>126898</td>\n",
       "      <td>AGUA DAS PEDRAS SALGADAS 6x0.33 PET</td>\n",
       "      <td>UN</td>\n",
       "      <td>120.0</td>\n",
       "      <td>Não</td>\n",
       "      <td>AMB</td>\n",
       "      <td>Bebidas</td>\n",
       "      <td>Aguas Minerais</td>\n",
       "      <td>2</td>\n",
       "    </tr>\n",
       "    <tr>\n",
       "      <th>2</th>\n",
       "      <td>1001096</td>\n",
       "      <td>6001131</td>\n",
       "      <td>2023-01-17</td>\n",
       "      <td>126898</td>\n",
       "      <td>AGUA DAS PEDRAS SALGADAS 6x0.33 PET</td>\n",
       "      <td>UN</td>\n",
       "      <td>120.0</td>\n",
       "      <td>Não</td>\n",
       "      <td>AMB</td>\n",
       "      <td>Bebidas</td>\n",
       "      <td>Aguas Minerais</td>\n",
       "      <td>3</td>\n",
       "    </tr>\n",
       "    <tr>\n",
       "      <th>3</th>\n",
       "      <td>1121833</td>\n",
       "      <td>6358142</td>\n",
       "      <td>2023-01-04</td>\n",
       "      <td>126898</td>\n",
       "      <td>AGUA DAS PEDRAS SALGADAS 6x0.33 PET</td>\n",
       "      <td>UN</td>\n",
       "      <td>12.0</td>\n",
       "      <td>Não</td>\n",
       "      <td>AMB</td>\n",
       "      <td>Bebidas</td>\n",
       "      <td>Aguas Minerais</td>\n",
       "      <td>4</td>\n",
       "    </tr>\n",
       "    <tr>\n",
       "      <th>4</th>\n",
       "      <td>1122758</td>\n",
       "      <td>6328488</td>\n",
       "      <td>2023-01-04</td>\n",
       "      <td>126898</td>\n",
       "      <td>AGUA DAS PEDRAS SALGADAS 6x0.33 PET</td>\n",
       "      <td>UN</td>\n",
       "      <td>60.0</td>\n",
       "      <td>Não</td>\n",
       "      <td>AMB</td>\n",
       "      <td>Bebidas</td>\n",
       "      <td>Aguas Minerais</td>\n",
       "      <td>5</td>\n",
       "    </tr>\n",
       "    <tr>\n",
       "      <th>...</th>\n",
       "      <td>...</td>\n",
       "      <td>...</td>\n",
       "      <td>...</td>\n",
       "      <td>...</td>\n",
       "      <td>...</td>\n",
       "      <td>...</td>\n",
       "      <td>...</td>\n",
       "      <td>...</td>\n",
       "      <td>...</td>\n",
       "      <td>...</td>\n",
       "      <td>...</td>\n",
       "      <td>...</td>\n",
       "    </tr>\n",
       "    <tr>\n",
       "      <th>434415</th>\n",
       "      <td>1002555</td>\n",
       "      <td>6010385</td>\n",
       "      <td>2023-01-31</td>\n",
       "      <td>623226</td>\n",
       "      <td>BATA NCARREGADA M/COMP. C/LOGO ITAU 2XL</td>\n",
       "      <td>UN</td>\n",
       "      <td>2.0</td>\n",
       "      <td>Sim</td>\n",
       "      <td>NAL</td>\n",
       "      <td>Nao Alimentares</td>\n",
       "      <td>Fardamento</td>\n",
       "      <td>4690</td>\n",
       "    </tr>\n",
       "    <tr>\n",
       "      <th>434416</th>\n",
       "      <td>1002555</td>\n",
       "      <td>6010385</td>\n",
       "      <td>2023-01-31</td>\n",
       "      <td>623260</td>\n",
       "      <td>T-SHIRT BRANCA UNISEXO C/LOGO ITAU M</td>\n",
       "      <td>UN</td>\n",
       "      <td>2.0</td>\n",
       "      <td>Sim</td>\n",
       "      <td>NAL</td>\n",
       "      <td>Nao Alimentares</td>\n",
       "      <td>Fardamento</td>\n",
       "      <td>4690</td>\n",
       "    </tr>\n",
       "    <tr>\n",
       "      <th>434417</th>\n",
       "      <td>1002555</td>\n",
       "      <td>6320067</td>\n",
       "      <td>2023-01-31</td>\n",
       "      <td>126440</td>\n",
       "      <td>CARDINAL S/CAB.CONG.CX 6 KG</td>\n",
       "      <td>KG</td>\n",
       "      <td>6.0</td>\n",
       "      <td>Sim</td>\n",
       "      <td>CON</td>\n",
       "      <td>Peixe</td>\n",
       "      <td>Peixe Congelado</td>\n",
       "      <td>14701</td>\n",
       "    </tr>\n",
       "    <tr>\n",
       "      <th>434418</th>\n",
       "      <td>1002554</td>\n",
       "      <td>6107653</td>\n",
       "      <td>2023-01-31</td>\n",
       "      <td>563492</td>\n",
       "      <td>ESPIRAIS TRICOLORES 500 GR NACIONAL</td>\n",
       "      <td>KG</td>\n",
       "      <td>2.0</td>\n",
       "      <td>Sim</td>\n",
       "      <td>AMB</td>\n",
       "      <td>Mercearia</td>\n",
       "      <td>Massas Secas</td>\n",
       "      <td>14710</td>\n",
       "    </tr>\n",
       "    <tr>\n",
       "      <th>434419</th>\n",
       "      <td>1002554</td>\n",
       "      <td>6005518</td>\n",
       "      <td>2023-01-31</td>\n",
       "      <td>576728</td>\n",
       "      <td>POLO SRA MCT BEJE GOLA VERMELHA TAM.XXL</td>\n",
       "      <td>UN</td>\n",
       "      <td>1.0</td>\n",
       "      <td>Sim</td>\n",
       "      <td>NAL</td>\n",
       "      <td>Nao Alimentares</td>\n",
       "      <td>Fardamento</td>\n",
       "      <td>2060</td>\n",
       "    </tr>\n",
       "  </tbody>\n",
       "</table>\n",
       "<p>434420 rows × 12 columns</p>\n",
       "</div>"
      ],
      "text/plain": [
       "         client  delivery_place       date  product  \\\n",
       "0       1128254         6346669 2023-01-06   126898   \n",
       "1       1001096         6001131 2023-01-03   126898   \n",
       "2       1001096         6001131 2023-01-17   126898   \n",
       "3       1121833         6358142 2023-01-04   126898   \n",
       "4       1122758         6328488 2023-01-04   126898   \n",
       "...         ...             ...        ...      ...   \n",
       "434415  1002555         6010385 2023-01-31   623226   \n",
       "434416  1002555         6010385 2023-01-31   623260   \n",
       "434417  1002555         6320067 2023-01-31   126440   \n",
       "434418  1002554         6107653 2023-01-31   563492   \n",
       "434419  1002554         6005518 2023-01-31   576728   \n",
       "\n",
       "                            product_description measure  quantity  \\\n",
       "0           AGUA DAS PEDRAS SALGADAS 6x0.33 PET      UN     600.0   \n",
       "1           AGUA DAS PEDRAS SALGADAS 6x0.33 PET      UN     120.0   \n",
       "2           AGUA DAS PEDRAS SALGADAS 6x0.33 PET      UN     120.0   \n",
       "3           AGUA DAS PEDRAS SALGADAS 6x0.33 PET      UN      12.0   \n",
       "4           AGUA DAS PEDRAS SALGADAS 6x0.33 PET      UN      60.0   \n",
       "...                                         ...     ...       ...   \n",
       "434415  BATA NCARREGADA M/COMP. C/LOGO ITAU 2XL      UN       2.0   \n",
       "434416     T-SHIRT BRANCA UNISEXO C/LOGO ITAU M      UN       2.0   \n",
       "434417              CARDINAL S/CAB.CONG.CX 6 KG      KG       6.0   \n",
       "434418      ESPIRAIS TRICOLORES 500 GR NACIONAL      KG       2.0   \n",
       "434419  POLO SRA MCT BEJE GOLA VERMELHA TAM.XXL      UN       1.0   \n",
       "\n",
       "       is_internal_client warehouse_zone     product_type  product_subtype  \\\n",
       "0                     Não            AMB          Bebidas   Aguas Minerais   \n",
       "1                     Não            AMB          Bebidas   Aguas Minerais   \n",
       "2                     Não            AMB          Bebidas   Aguas Minerais   \n",
       "3                     Não            AMB          Bebidas   Aguas Minerais   \n",
       "4                     Não            AMB          Bebidas   Aguas Minerais   \n",
       "...                   ...            ...              ...              ...   \n",
       "434415                Sim            NAL  Nao Alimentares       Fardamento   \n",
       "434416                Sim            NAL  Nao Alimentares       Fardamento   \n",
       "434417                Sim            CON            Peixe  Peixe Congelado   \n",
       "434418                Sim            AMB        Mercearia     Massas Secas   \n",
       "434419                Sim            NAL  Nao Alimentares       Fardamento   \n",
       "\n",
       "        order_id  \n",
       "0              1  \n",
       "1              2  \n",
       "2              3  \n",
       "3              4  \n",
       "4              5  \n",
       "...          ...  \n",
       "434415      4690  \n",
       "434416      4690  \n",
       "434417     14701  \n",
       "434418     14710  \n",
       "434419      2060  \n",
       "\n",
       "[434420 rows x 12 columns]"
      ]
     },
     "execution_count": 1,
     "metadata": {},
     "output_type": "execute_result"
    }
   ],
   "source": [
    "import pandas as pd\n",
    "import numpy as np\n",
    "df = pd.read_csv('orders.csv')\n",
    "df = df.drop('Unnamed: 0',axis=1)\n",
    "df['date'] = pd.to_datetime(df['date'])\n",
    "df"
   ]
  },
  {
   "cell_type": "markdown",
   "id": "fe587852-c6e4-4099-a0f5-44f0d76e3c69",
   "metadata": {},
   "source": [
    "Dataset description:\n",
    "- Data types:\n",
    "    - Numeric:\n",
    "        - client: internal code of the client\n",
    "        - delivery_place: internal code for a client delivery place (each client can have many delivery places)\n",
    "        - date: date of the order\n",
    "        - product: internal code of the product\n",
    "        - quantity\n",
    "    - Categorical:\n",
    "        - product_description\n",
    "        - measure: unit used to measure quantity number\n",
    "        - is_internal_client: if the client belongs to the company group, i.e. has the same holding company\n",
    "        - warehouse_zone: internal code of the zone the product is located in the warehouse\n",
    "        - product_type\n",
    "        - product_subtype"
   ]
  },
  {
   "cell_type": "code",
   "execution_count": 2,
   "id": "9c1177f1-3889-4f00-b155-533b65921ada",
   "metadata": {},
   "outputs": [
    {
     "name": "stdout",
     "output_type": "stream",
     "text": [
      "['AMB' 'REF' 'CON' 'NAL' 'DET' 'BAT' 'FRL' 'SAL' 'CAR' 'MAT' 'FRE' 'PEX']\n"
     ]
    }
   ],
   "source": [
    "#Print categorical feature\n",
    "print(df.warehouse_zone.unique())"
   ]
  },
  {
   "cell_type": "markdown",
   "id": "5b575671-9762-4c9c-9ba6-83a21de882ba",
   "metadata": {},
   "source": [
    "Now we should use choose which variables to encode for that we can:"
   ]
  },
  {
   "cell_type": "code",
   "execution_count": 3,
   "id": "49011109-a247-4f96-bede-7fb2768c58fa",
   "metadata": {},
   "outputs": [
    {
     "name": "stdout",
     "output_type": "stream",
     "text": [
      "   AMB  BAT  CAR  CON  DET  FRE  FRL  MAT  NAL  PEX  REF  SAL\n",
      "0    1    0    0    0    0    0    0    0    0    0    0    0\n",
      "1    1    0    0    0    0    0    0    0    0    0    0    0\n",
      "2    1    0    0    0    0    0    0    0    0    0    0    0\n",
      "3    1    0    0    0    0    0    0    0    0    0    0    0\n",
      "4    1    0    0    0    0    0    0    0    0    0    0    0\n"
     ]
    }
   ],
   "source": [
    "#Use get_dummies in pandas\n",
    "#Another option: OneHotEncoder in sci-kit learn\n",
    "print(pd.get_dummies(df['warehouse_zone']).head(5))"
   ]
  },
  {
   "cell_type": "code",
   "execution_count": 4,
   "id": "e04cfb36-9cef-412a-aa37-7fbe0d39ff2d",
   "metadata": {},
   "outputs": [
    {
     "name": "stdout",
     "output_type": "stream",
     "text": [
      "Feature 'product_description' has 4685 unique categories\n",
      "Feature 'measure' has 9 unique categories\n",
      "Feature 'is_internal_client' has 2 unique categories\n",
      "Feature 'warehouse_zone' has 12 unique categories\n",
      "Feature 'product_type' has 16 unique categories\n",
      "Feature 'product_subtype' has 197 unique categories\n"
     ]
    }
   ],
   "source": [
    "#Decide on which categorical variables we want in our model\n",
    "for c in df.columns:\n",
    "    if df[c].dtypes == 'object':\n",
    "        unique_cat= len(df[c].unique())\n",
    "        print(f\"Feature '{c}' has {unique_cat} unique categories\")"
   ]
  },
  {
   "cell_type": "code",
   "execution_count": 5,
   "id": "ebbc0f0c-bf56-45b5-9eae-bcf83fda5790",
   "metadata": {},
   "outputs": [
    {
     "name": "stdout",
     "output_type": "stream",
     "text": [
      "TARA CAIXA PLAST NOVA F/L                  31327\n",
      "ALFACE                                      5653\n",
      "CENOURA                                     5070\n",
      "TOMATE MEDIO                                4655\n",
      "LEITE M/GORDO UHT LT AGROS PROFISSIONAL     4426\n",
      "BATATA BRANCA                               4223\n",
      "SAL CRISTAL SALDOMAR KG                     3197\n",
      "COUVE LOMBARDO                              3133\n",
      "ARROZ LONGO COMUM AGULHA EUROCHEFE 1 KG     3072\n",
      "ACUCAR GRANULADO SACO PAPEL 1 KG RAR        2977\n",
      "Name: product_description, dtype: int64\n",
      "Horticolas Frescos            35854\n",
      "Taras (Outras)                32833\n",
      "Horticolas Congelados         28548\n",
      "Frutas Frescas                26309\n",
      "Iogurtes                      22862\n",
      "Leite                         13392\n",
      "Peixe Congelado               10752\n",
      "Enchidos-Charcutaria Porco    10510\n",
      "Biosog                         8820\n",
      "Queijos                        8437\n",
      "Name: product_subtype, dtype: int64\n",
      "Mercearia          155873\n",
      "Legumes             96485\n",
      "Frutas              33792\n",
      "Taras               32833\n",
      "Nao Alimentares     31813\n",
      "Bebidas             23677\n",
      "Peixe               21510\n",
      "Carne de Porco      17793\n",
      "Criacao             16044\n",
      "Carne de Bovino      3395\n",
      "Name: product_type, dtype: int64\n"
     ]
    }
   ],
   "source": [
    "#Let's check the the variables with a lot of categories\n",
    "print(df['product_description'].value_counts().sort_values(ascending=False).head(10))\n",
    "print(df['product_subtype'].value_counts().sort_values(ascending=False).head(10))\n",
    "print(df['product_type'].value_counts().sort_values(ascending=False).head(10))"
   ]
  },
  {
   "cell_type": "code",
   "execution_count": 6,
   "id": "61e113c8-a2a8-4f87-a59b-8568f13bc070",
   "metadata": {},
   "outputs": [],
   "source": [
    "df = df[df['product_description']!='TARA CAIXA PLAST NOVA F/L']"
   ]
  },
  {
   "cell_type": "code",
   "execution_count": 7,
   "id": "71e51a3e-de68-4ce7-8ef2-afcb3a504c15",
   "metadata": {},
   "outputs": [],
   "source": [
    "#Create a list of features to dummy\n",
    "todummy_list = ['is_internal_client','warehouse_zone','product_type','product_description','measure']"
   ]
  },
  {
   "cell_type": "code",
   "execution_count": 8,
   "id": "cfaa9a0c-89a5-4903-b611-1e2da15d5465",
   "metadata": {},
   "outputs": [],
   "source": [
    "#Function to dummy all the categorical variables used for modeling\n",
    "def dummy_df(df, todummy_lsit):\n",
    "    for i in todummy_list:\n",
    "        dummies = pd.get_dummies(df[i], prefix=i, dummy_na=False)\n",
    "        df = df.drop(i,1)\n",
    "        df = pd.concat([df,dummies], axis=1)\n",
    "    return df"
   ]
  },
  {
   "cell_type": "code",
   "execution_count": 9,
   "id": "9794a46b-04fa-4bfe-9f07-9b84af2e6c44",
   "metadata": {},
   "outputs": [
    {
     "name": "stderr",
     "output_type": "stream",
     "text": [
      "C:\\Users\\berna\\AppData\\Local\\Temp\\ipykernel_12920\\4124444329.py:5: FutureWarning: In a future version of pandas all arguments of DataFrame.drop except for the argument 'labels' will be keyword-only.\n",
      "  df = df.drop(i,1)\n",
      "C:\\Users\\berna\\AppData\\Local\\Temp\\ipykernel_12920\\4124444329.py:5: FutureWarning: In a future version of pandas all arguments of DataFrame.drop except for the argument 'labels' will be keyword-only.\n",
      "  df = df.drop(i,1)\n",
      "C:\\Users\\berna\\AppData\\Local\\Temp\\ipykernel_12920\\4124444329.py:5: FutureWarning: In a future version of pandas all arguments of DataFrame.drop except for the argument 'labels' will be keyword-only.\n",
      "  df = df.drop(i,1)\n",
      "C:\\Users\\berna\\AppData\\Local\\Temp\\ipykernel_12920\\4124444329.py:5: FutureWarning: In a future version of pandas all arguments of DataFrame.drop except for the argument 'labels' will be keyword-only.\n",
      "  df = df.drop(i,1)\n",
      "C:\\Users\\berna\\AppData\\Local\\Temp\\ipykernel_12920\\4124444329.py:5: FutureWarning: In a future version of pandas all arguments of DataFrame.drop except for the argument 'labels' will be keyword-only.\n",
      "  df = df.drop(i,1)\n"
     ]
    },
    {
     "name": "stdout",
     "output_type": "stream",
     "text": [
      "    client  delivery_place       date  product  quantity product_subtype  \\\n",
      "0  1128254         6346669 2023-01-06   126898     600.0  Aguas Minerais   \n",
      "1  1001096         6001131 2023-01-03   126898     120.0  Aguas Minerais   \n",
      "2  1001096         6001131 2023-01-17   126898     120.0  Aguas Minerais   \n",
      "3  1121833         6358142 2023-01-04   126898      12.0  Aguas Minerais   \n",
      "4  1122758         6328488 2023-01-04   126898      60.0  Aguas Minerais   \n",
      "\n",
      "   order_id  is_internal_client_Não  is_internal_client_Sim  \\\n",
      "0         1                       1                       0   \n",
      "1         2                       1                       0   \n",
      "2         3                       1                       0   \n",
      "3         4                       1                       0   \n",
      "4         5                       1                       0   \n",
      "\n",
      "   warehouse_zone_AMB  ...  \\\n",
      "0                   1  ...   \n",
      "1                   1  ...   \n",
      "2                   1  ...   \n",
      "3                   1  ...   \n",
      "4                   1  ...   \n",
      "\n",
      "   product_description_ZINI TORTELLONI RICOTTA SPINACI CONG 1KG  measure_BAG  \\\n",
      "0                                                  0                       0   \n",
      "1                                                  0                       0   \n",
      "2                                                  0                       0   \n",
      "3                                                  0                       0   \n",
      "4                                                  0                       0   \n",
      "\n",
      "   measure_CV  measure_DZ  measure_KG  measure_KI  measure_L  measure_PAK  \\\n",
      "0           0           0           0           0          0            0   \n",
      "1           0           0           0           0          0            0   \n",
      "2           0           0           0           0          0            0   \n",
      "3           0           0           0           0          0            0   \n",
      "4           0           0           0           0          0            0   \n",
      "\n",
      "   measure_TH  measure_UN  \n",
      "0           0           1  \n",
      "1           0           1  \n",
      "2           0           1  \n",
      "3           0           1  \n",
      "4           0           1  \n",
      "\n",
      "[5 rows x 4730 columns]\n"
     ]
    }
   ],
   "source": [
    "df = dummy_df(df, todummy_list)\n",
    "print(df.head(5))"
   ]
  },
  {
   "cell_type": "markdown",
   "id": "4f75baef-0f2c-4b6d-9639-22f626e95961",
   "metadata": {},
   "source": [
    "## Missing data?"
   ]
  },
  {
   "cell_type": "code",
   "execution_count": 10,
   "id": "c91bf397-1645-4072-9e18-3e61db524312",
   "metadata": {},
   "outputs": [
    {
     "data": {
      "text/plain": [
       "client                                                       0\n",
       "product_description_ORTANIQUES                               0\n",
       "product_description_OVOS TIPO S CX 15 DZ  CLARA GEMA         0\n",
       "product_description_OVOS TIPO M EMBALAGEM 1DZ AVIAVA         0\n",
       "product_description_OVOS TIPO M EMBALAGEM 1 DZ CLARA GEMA    0\n",
       "dtype: int64"
      ]
     },
     "execution_count": 10,
     "metadata": {},
     "output_type": "execute_result"
    }
   ],
   "source": [
    "#How much of data is missing?\n",
    "df.isnull().sum().sort_values(ascending=False).head()"
   ]
  },
  {
   "cell_type": "markdown",
   "id": "dfa54d25-7e7f-4623-9df2-fb9ddb11ef99",
   "metadata": {},
   "source": [
    "## Explore the data for a more clear view"
   ]
  },
  {
   "cell_type": "code",
   "execution_count": 11,
   "id": "31e0b276-c7be-4c3c-a721-5b840e381294",
   "metadata": {},
   "outputs": [],
   "source": [
    "def find_outliers_tukey(x):\n",
    "    q1 = np.percentile(x, 25)\n",
    "    q3 = np.percentile(x, 75)\n",
    "    iqr = q3 - q1\n",
    "    floor = q1 - 1.5*iqr\n",
    "    ceiling = q3 + 1.5*iqr\n",
    "    otlier_indices = list(x.index[(x < floor) | (x > ceiling)])\n",
    "    otlier_values = list(x[otlier_indices])\n",
    "    \n",
    "    return otlier_indices, otlier_values"
   ]
  },
  {
   "cell_type": "code",
   "execution_count": 12,
   "id": "454e37e2-c813-46a2-83e7-e20c8f2487fd",
   "metadata": {},
   "outputs": [
    {
     "name": "stdout",
     "output_type": "stream",
     "text": [
      "[3.47000e+01 3.50000e+01 3.50000e+01 ... 1.80000e+05 3.06293e+05\n",
      " 3.60000e+05]\n"
     ]
    }
   ],
   "source": [
    "tukey_indices, tukey_values = find_outliers_tukey(df['quantity'])\n",
    "print(np.sort(tukey_values))"
   ]
  },
  {
   "cell_type": "markdown",
   "id": "daa7964a-66b3-4c91-a5d8-c085778dddf6",
   "metadata": {},
   "source": [
    "## Distribution of features"
   ]
  },
  {
   "cell_type": "code",
   "execution_count": 13,
   "id": "8127ecad-9dc4-4040-a8c7-125113d5872b",
   "metadata": {},
   "outputs": [],
   "source": [
    "%matplotlib inline\n",
    "import matplotlib.pyplot as plt\n",
    "\n",
    "def plot_histogram(x):\n",
    "    plt.hist(x, color='blue', alpha=0.5)\n",
    "    plt.title(f\"Histogram of {x.name}\")\n",
    "    plt.xlabel(\"Value\")\n",
    "    plt.ylabel(\"Frequency\")\n",
    "    plt.show()"
   ]
  },
  {
   "cell_type": "code",
   "execution_count": 14,
   "id": "ca241780-9aa2-43bf-8861-f1184166fa12",
   "metadata": {},
   "outputs": [
    {
     "data": {
      "image/png": "[encoded data removed]",
      "text/plain": [
       "<Figure size 640x480 with 1 Axes>"
      ]
     },
     "metadata": {},
     "output_type": "display_data"
    }
   ],
   "source": [
    "plot_histogram(df['product_subtype'])"
   ]
  },
  {
   "cell_type": "markdown",
   "id": "b9d5e34b-e85f-4cbd-a2b4-3b1558722fd4",
   "metadata": {},
   "source": [
    "## Feature Engineering"
   ]
  },
  {
   "cell_type": "markdown",
   "id": "571f6142-3c58-439b-a5fa-26868a76fa56",
   "metadata": {},
   "source": [
    "### Adding features"
   ]
  },
  {
   "cell_type": "code",
   "execution_count": 15,
   "id": "32bef9e8-70aa-4556-a22c-e714a4342a20",
   "metadata": {},
   "outputs": [],
   "source": [
    "from itertools import combinations\n",
    "from sklearn.preprocessing import PolynomialFeatures\n",
    "def add_interactions(df):\n",
    "    #Get feature names\n",
    "    combos= list(combinations(list(df.columns),2))\n",
    "    colnames= list(df.columns) + ['_'.join(x) for x in combos]\n",
    "    \n",
    "    #Find interactions\n",
    "    poly = PolynomialFeatures(interaction_only=True, include_bias=False)\n",
    "    df = poly.fit_transform(df)\n",
    "    df=pd.DataFrame(df)\n",
    "    df.columns = colnames\n",
    "    \n",
    "    #Remove interaction term with all 0 values\n",
    "    no = [i for i, x in enumerate(list((df==0).all()))if x]\n",
    "    df = df.drop(df.columns(no),axis=1)\n",
    "    \n",
    "    return df"
   ]
  },
  {
   "cell_type": "code",
   "execution_count": 17,
   "id": "53d6f9f6-84cb-426c-a353-dc318db936c6",
   "metadata": {
    "collapsed": true,
    "jupyter": {
     "outputs_hidden": true
    },
    "tags": []
   },
   "outputs": [
    {
     "ename": "ValueError",
     "evalue": "could not convert string to float: 'Aguas Minerais'",
     "output_type": "error",
     "traceback": [
      "\u001b[1;31m---------------------------------------------------------------------------\u001b[0m",
      "\u001b[1;31mValueError\u001b[0m                                Traceback (most recent call last)",
      "Cell \u001b[1;32mIn[17], line 2\u001b[0m\n\u001b[0;32m      1\u001b[0m df_nodate\u001b[38;5;241m=\u001b[39mdf\u001b[38;5;241m.\u001b[39mdrop([\u001b[38;5;124m'\u001b[39m\u001b[38;5;124mdate\u001b[39m\u001b[38;5;124m'\u001b[39m],axis\u001b[38;5;241m=\u001b[39m\u001b[38;5;241m1\u001b[39m)\n\u001b[1;32m----> 2\u001b[0m df_interactions \u001b[38;5;241m=\u001b[39m \u001b[43madd_interactions\u001b[49m\u001b[43m(\u001b[49m\u001b[43mdf_nodate\u001b[49m\u001b[43m)\u001b[49m\n\u001b[0;32m      3\u001b[0m \u001b[38;5;28mprint\u001b[39m(df_interactions\u001b[38;5;241m.\u001b[39mhead(\u001b[38;5;241m5\u001b[39m))\n",
      "Cell \u001b[1;32mIn[15], line 10\u001b[0m, in \u001b[0;36madd_interactions\u001b[1;34m(df)\u001b[0m\n\u001b[0;32m      8\u001b[0m \u001b[38;5;66;03m#Find interactions\u001b[39;00m\n\u001b[0;32m      9\u001b[0m poly \u001b[38;5;241m=\u001b[39m PolynomialFeatures(interaction_only\u001b[38;5;241m=\u001b[39m\u001b[38;5;28;01mTrue\u001b[39;00m, include_bias\u001b[38;5;241m=\u001b[39m\u001b[38;5;28;01mFalse\u001b[39;00m)\n\u001b[1;32m---> 10\u001b[0m df \u001b[38;5;241m=\u001b[39m \u001b[43mpoly\u001b[49m\u001b[38;5;241;43m.\u001b[39;49m\u001b[43mfit_transform\u001b[49m\u001b[43m(\u001b[49m\u001b[43mdf\u001b[49m\u001b[43m)\u001b[49m\n\u001b[0;32m     11\u001b[0m df\u001b[38;5;241m=\u001b[39mpd\u001b[38;5;241m.\u001b[39mDataFrame(df)\n\u001b[0;32m     12\u001b[0m df\u001b[38;5;241m.\u001b[39mcolumns \u001b[38;5;241m=\u001b[39m colnames\n",
      "File \u001b[1;32m~\\anaconda3\\envs\\testing\\lib\\site-packages\\sklearn\\utils\\_set_output.py:140\u001b[0m, in \u001b[0;36m_wrap_method_output.<locals>.wrapped\u001b[1;34m(self, X, *args, **kwargs)\u001b[0m\n\u001b[0;32m    138\u001b[0m \u001b[38;5;129m@wraps\u001b[39m(f)\n\u001b[0;32m    139\u001b[0m \u001b[38;5;28;01mdef\u001b[39;00m \u001b[38;5;21mwrapped\u001b[39m(\u001b[38;5;28mself\u001b[39m, X, \u001b[38;5;241m*\u001b[39margs, \u001b[38;5;241m*\u001b[39m\u001b[38;5;241m*\u001b[39mkwargs):\n\u001b[1;32m--> 140\u001b[0m     data_to_wrap \u001b[38;5;241m=\u001b[39m f(\u001b[38;5;28mself\u001b[39m, X, \u001b[38;5;241m*\u001b[39margs, \u001b[38;5;241m*\u001b[39m\u001b[38;5;241m*\u001b[39mkwargs)\n\u001b[0;32m    141\u001b[0m     \u001b[38;5;28;01mif\u001b[39;00m \u001b[38;5;28misinstance\u001b[39m(data_to_wrap, \u001b[38;5;28mtuple\u001b[39m):\n\u001b[0;32m    142\u001b[0m         \u001b[38;5;66;03m# only wrap the first output for cross decomposition\u001b[39;00m\n\u001b[0;32m    143\u001b[0m         \u001b[38;5;28;01mreturn\u001b[39;00m (\n\u001b[0;32m    144\u001b[0m             _wrap_data_with_container(method, data_to_wrap[\u001b[38;5;241m0\u001b[39m], X, \u001b[38;5;28mself\u001b[39m),\n\u001b[0;32m    145\u001b[0m             \u001b[38;5;241m*\u001b[39mdata_to_wrap[\u001b[38;5;241m1\u001b[39m:],\n\u001b[0;32m    146\u001b[0m         )\n",
      "File \u001b[1;32m~\\anaconda3\\envs\\testing\\lib\\site-packages\\sklearn\\base.py:878\u001b[0m, in \u001b[0;36mTransformerMixin.fit_transform\u001b[1;34m(self, X, y, **fit_params)\u001b[0m\n\u001b[0;32m    874\u001b[0m \u001b[38;5;66;03m# non-optimized default implementation; override when a better\u001b[39;00m\n\u001b[0;32m    875\u001b[0m \u001b[38;5;66;03m# method is possible for a given clustering algorithm\u001b[39;00m\n\u001b[0;32m    876\u001b[0m \u001b[38;5;28;01mif\u001b[39;00m y \u001b[38;5;129;01mis\u001b[39;00m \u001b[38;5;28;01mNone\u001b[39;00m:\n\u001b[0;32m    877\u001b[0m     \u001b[38;5;66;03m# fit method of arity 1 (unsupervised transformation)\u001b[39;00m\n\u001b[1;32m--> 878\u001b[0m     \u001b[38;5;28;01mreturn\u001b[39;00m \u001b[38;5;28mself\u001b[39m\u001b[38;5;241m.\u001b[39mfit(X, \u001b[38;5;241m*\u001b[39m\u001b[38;5;241m*\u001b[39mfit_params)\u001b[38;5;241m.\u001b[39mtransform(X)\n\u001b[0;32m    879\u001b[0m \u001b[38;5;28;01melse\u001b[39;00m:\n\u001b[0;32m    880\u001b[0m     \u001b[38;5;66;03m# fit method of arity 2 (supervised transformation)\u001b[39;00m\n\u001b[0;32m    881\u001b[0m     \u001b[38;5;28;01mreturn\u001b[39;00m \u001b[38;5;28mself\u001b[39m\u001b[38;5;241m.\u001b[39mfit(X, y, \u001b[38;5;241m*\u001b[39m\u001b[38;5;241m*\u001b[39mfit_params)\u001b[38;5;241m.\u001b[39mtransform(X)\n",
      "File \u001b[1;32m~\\anaconda3\\envs\\testing\\lib\\site-packages\\sklearn\\preprocessing\\_polynomial.py:252\u001b[0m, in \u001b[0;36mPolynomialFeatures.fit\u001b[1;34m(self, X, y)\u001b[0m\n\u001b[0;32m    235\u001b[0m \u001b[38;5;250m\u001b[39m\u001b[38;5;124;03m\"\"\"\u001b[39;00m\n\u001b[0;32m    236\u001b[0m \u001b[38;5;124;03mCompute number of output features.\u001b[39;00m\n\u001b[0;32m    237\u001b[0m \n\u001b[1;32m   (...)\u001b[0m\n\u001b[0;32m    249\u001b[0m \u001b[38;5;124;03m    Fitted transformer.\u001b[39;00m\n\u001b[0;32m    250\u001b[0m \u001b[38;5;124;03m\"\"\"\u001b[39;00m\n\u001b[0;32m    251\u001b[0m \u001b[38;5;28mself\u001b[39m\u001b[38;5;241m.\u001b[39m_validate_params()\n\u001b[1;32m--> 252\u001b[0m _, n_features \u001b[38;5;241m=\u001b[39m \u001b[38;5;28;43mself\u001b[39;49m\u001b[38;5;241;43m.\u001b[39;49m\u001b[43m_validate_data\u001b[49m\u001b[43m(\u001b[49m\u001b[43mX\u001b[49m\u001b[43m,\u001b[49m\u001b[43m \u001b[49m\u001b[43maccept_sparse\u001b[49m\u001b[38;5;241;43m=\u001b[39;49m\u001b[38;5;28;43;01mTrue\u001b[39;49;00m\u001b[43m)\u001b[49m\u001b[38;5;241m.\u001b[39mshape\n\u001b[0;32m    254\u001b[0m \u001b[38;5;28;01mif\u001b[39;00m \u001b[38;5;28misinstance\u001b[39m(\u001b[38;5;28mself\u001b[39m\u001b[38;5;241m.\u001b[39mdegree, Integral):\n\u001b[0;32m    255\u001b[0m     \u001b[38;5;28;01mif\u001b[39;00m \u001b[38;5;28mself\u001b[39m\u001b[38;5;241m.\u001b[39mdegree \u001b[38;5;241m==\u001b[39m \u001b[38;5;241m0\u001b[39m \u001b[38;5;129;01mand\u001b[39;00m \u001b[38;5;129;01mnot\u001b[39;00m \u001b[38;5;28mself\u001b[39m\u001b[38;5;241m.\u001b[39minclude_bias:\n",
      "File \u001b[1;32m~\\anaconda3\\envs\\testing\\lib\\site-packages\\sklearn\\base.py:565\u001b[0m, in \u001b[0;36mBaseEstimator._validate_data\u001b[1;34m(self, X, y, reset, validate_separately, **check_params)\u001b[0m\n\u001b[0;32m    563\u001b[0m     \u001b[38;5;28;01mraise\u001b[39;00m \u001b[38;5;167;01mValueError\u001b[39;00m(\u001b[38;5;124m\"\u001b[39m\u001b[38;5;124mValidation should be done on X, y or both.\u001b[39m\u001b[38;5;124m\"\u001b[39m)\n\u001b[0;32m    564\u001b[0m \u001b[38;5;28;01melif\u001b[39;00m \u001b[38;5;129;01mnot\u001b[39;00m no_val_X \u001b[38;5;129;01mand\u001b[39;00m no_val_y:\n\u001b[1;32m--> 565\u001b[0m     X \u001b[38;5;241m=\u001b[39m check_array(X, input_name\u001b[38;5;241m=\u001b[39m\u001b[38;5;124m\"\u001b[39m\u001b[38;5;124mX\u001b[39m\u001b[38;5;124m\"\u001b[39m, \u001b[38;5;241m*\u001b[39m\u001b[38;5;241m*\u001b[39mcheck_params)\n\u001b[0;32m    566\u001b[0m     out \u001b[38;5;241m=\u001b[39m X\n\u001b[0;32m    567\u001b[0m \u001b[38;5;28;01melif\u001b[39;00m no_val_X \u001b[38;5;129;01mand\u001b[39;00m \u001b[38;5;129;01mnot\u001b[39;00m no_val_y:\n",
      "File \u001b[1;32m~\\anaconda3\\envs\\testing\\lib\\site-packages\\sklearn\\utils\\validation.py:879\u001b[0m, in \u001b[0;36mcheck_array\u001b[1;34m(array, accept_sparse, accept_large_sparse, dtype, order, copy, force_all_finite, ensure_2d, allow_nd, ensure_min_samples, ensure_min_features, estimator, input_name)\u001b[0m\n\u001b[0;32m    877\u001b[0m         array \u001b[38;5;241m=\u001b[39m xp\u001b[38;5;241m.\u001b[39mastype(array, dtype, copy\u001b[38;5;241m=\u001b[39m\u001b[38;5;28;01mFalse\u001b[39;00m)\n\u001b[0;32m    878\u001b[0m     \u001b[38;5;28;01melse\u001b[39;00m:\n\u001b[1;32m--> 879\u001b[0m         array \u001b[38;5;241m=\u001b[39m \u001b[43m_asarray_with_order\u001b[49m\u001b[43m(\u001b[49m\u001b[43marray\u001b[49m\u001b[43m,\u001b[49m\u001b[43m \u001b[49m\u001b[43morder\u001b[49m\u001b[38;5;241;43m=\u001b[39;49m\u001b[43morder\u001b[49m\u001b[43m,\u001b[49m\u001b[43m \u001b[49m\u001b[43mdtype\u001b[49m\u001b[38;5;241;43m=\u001b[39;49m\u001b[43mdtype\u001b[49m\u001b[43m,\u001b[49m\u001b[43m \u001b[49m\u001b[43mxp\u001b[49m\u001b[38;5;241;43m=\u001b[39;49m\u001b[43mxp\u001b[49m\u001b[43m)\u001b[49m\n\u001b[0;32m    880\u001b[0m \u001b[38;5;28;01mexcept\u001b[39;00m ComplexWarning \u001b[38;5;28;01mas\u001b[39;00m complex_warning:\n\u001b[0;32m    881\u001b[0m     \u001b[38;5;28;01mraise\u001b[39;00m \u001b[38;5;167;01mValueError\u001b[39;00m(\n\u001b[0;32m    882\u001b[0m         \u001b[38;5;124m\"\u001b[39m\u001b[38;5;124mComplex data not supported\u001b[39m\u001b[38;5;130;01m\\n\u001b[39;00m\u001b[38;5;132;01m{}\u001b[39;00m\u001b[38;5;130;01m\\n\u001b[39;00m\u001b[38;5;124m\"\u001b[39m\u001b[38;5;241m.\u001b[39mformat(array)\n\u001b[0;32m    883\u001b[0m     ) \u001b[38;5;28;01mfrom\u001b[39;00m \u001b[38;5;21;01mcomplex_warning\u001b[39;00m\n",
      "File \u001b[1;32m~\\anaconda3\\envs\\testing\\lib\\site-packages\\sklearn\\utils\\_array_api.py:185\u001b[0m, in \u001b[0;36m_asarray_with_order\u001b[1;34m(array, dtype, order, copy, xp)\u001b[0m\n\u001b[0;32m    182\u001b[0m     xp, _ \u001b[38;5;241m=\u001b[39m get_namespace(array)\n\u001b[0;32m    183\u001b[0m \u001b[38;5;28;01mif\u001b[39;00m xp\u001b[38;5;241m.\u001b[39m\u001b[38;5;18m__name__\u001b[39m \u001b[38;5;129;01min\u001b[39;00m {\u001b[38;5;124m\"\u001b[39m\u001b[38;5;124mnumpy\u001b[39m\u001b[38;5;124m\"\u001b[39m, \u001b[38;5;124m\"\u001b[39m\u001b[38;5;124mnumpy.array_api\u001b[39m\u001b[38;5;124m\"\u001b[39m}:\n\u001b[0;32m    184\u001b[0m     \u001b[38;5;66;03m# Use NumPy API to support order\u001b[39;00m\n\u001b[1;32m--> 185\u001b[0m     array \u001b[38;5;241m=\u001b[39m \u001b[43mnumpy\u001b[49m\u001b[38;5;241;43m.\u001b[39;49m\u001b[43masarray\u001b[49m\u001b[43m(\u001b[49m\u001b[43marray\u001b[49m\u001b[43m,\u001b[49m\u001b[43m \u001b[49m\u001b[43morder\u001b[49m\u001b[38;5;241;43m=\u001b[39;49m\u001b[43morder\u001b[49m\u001b[43m,\u001b[49m\u001b[43m \u001b[49m\u001b[43mdtype\u001b[49m\u001b[38;5;241;43m=\u001b[39;49m\u001b[43mdtype\u001b[49m\u001b[43m)\u001b[49m\n\u001b[0;32m    186\u001b[0m     \u001b[38;5;28;01mreturn\u001b[39;00m xp\u001b[38;5;241m.\u001b[39masarray(array, copy\u001b[38;5;241m=\u001b[39mcopy)\n\u001b[0;32m    187\u001b[0m \u001b[38;5;28;01melse\u001b[39;00m:\n",
      "File \u001b[1;32m~\\anaconda3\\envs\\testing\\lib\\site-packages\\pandas\\core\\generic.py:2070\u001b[0m, in \u001b[0;36mNDFrame.__array__\u001b[1;34m(self, dtype)\u001b[0m\n\u001b[0;32m   2069\u001b[0m \u001b[38;5;28;01mdef\u001b[39;00m \u001b[38;5;21m__array__\u001b[39m(\u001b[38;5;28mself\u001b[39m, dtype: npt\u001b[38;5;241m.\u001b[39mDTypeLike \u001b[38;5;241m|\u001b[39m \u001b[38;5;28;01mNone\u001b[39;00m \u001b[38;5;241m=\u001b[39m \u001b[38;5;28;01mNone\u001b[39;00m) \u001b[38;5;241m-\u001b[39m\u001b[38;5;241m>\u001b[39m np\u001b[38;5;241m.\u001b[39mndarray:\n\u001b[1;32m-> 2070\u001b[0m     \u001b[38;5;28;01mreturn\u001b[39;00m \u001b[43mnp\u001b[49m\u001b[38;5;241;43m.\u001b[39;49m\u001b[43masarray\u001b[49m\u001b[43m(\u001b[49m\u001b[38;5;28;43mself\u001b[39;49m\u001b[38;5;241;43m.\u001b[39;49m\u001b[43m_values\u001b[49m\u001b[43m,\u001b[49m\u001b[43m \u001b[49m\u001b[43mdtype\u001b[49m\u001b[38;5;241;43m=\u001b[39;49m\u001b[43mdtype\u001b[49m\u001b[43m)\u001b[49m\n",
      "\u001b[1;31mValueError\u001b[0m: could not convert string to float: 'Aguas Minerais'"
     ]
    }
   ],
   "source": [
    "df_nodate=df.drop(['date'],axis=1)\n",
    "df_interactions = add_interactions(df_nodate)\n",
    "print(df_interactions.head(5))"
   ]
  },
  {
   "cell_type": "markdown",
   "id": "e31f88d0-14df-4a49-ad67-e20d7393b932",
   "metadata": {},
   "source": [
    "### Reducing Features"
   ]
  },
  {
   "cell_type": "code",
   "execution_count": 20,
   "id": "d3dff944-6cf8-4014-a6aa-363b3bec5f10",
   "metadata": {
    "collapsed": true,
    "jupyter": {
     "outputs_hidden": true
    },
    "tags": []
   },
   "outputs": [
    {
     "ename": "ValueError",
     "evalue": "could not convert string to float: 'Aguas Minerais'",
     "output_type": "error",
     "traceback": [
      "\u001b[1;31m---------------------------------------------------------------------------\u001b[0m",
      "\u001b[1;31mValueError\u001b[0m                                Traceback (most recent call last)",
      "Cell \u001b[1;32mIn[20], line 4\u001b[0m\n\u001b[0;32m      1\u001b[0m \u001b[38;5;28;01mfrom\u001b[39;00m \u001b[38;5;21;01msklearn\u001b[39;00m\u001b[38;5;21;01m.\u001b[39;00m\u001b[38;5;21;01mdecomposition\u001b[39;00m \u001b[38;5;28;01mimport\u001b[39;00m PCA\n\u001b[0;32m      3\u001b[0m pca \u001b[38;5;241m=\u001b[39m PCA(n_components\u001b[38;5;241m=\u001b[39m\u001b[38;5;241m10\u001b[39m)\n\u001b[1;32m----> 4\u001b[0m df_pca\u001b[38;5;241m=\u001b[39m pd\u001b[38;5;241m.\u001b[39mDataFrame(\u001b[43mpca\u001b[49m\u001b[38;5;241;43m.\u001b[39;49m\u001b[43mfit_transform\u001b[49m\u001b[43m(\u001b[49m\u001b[43mdf_nodate\u001b[49m\u001b[43m)\u001b[49m)\n\u001b[0;32m      5\u001b[0m \u001b[38;5;28mprint\u001b[39m(df_pca\u001b[38;5;241m.\u001b[39mhead())\n",
      "File \u001b[1;32m~\\anaconda3\\envs\\testing\\lib\\site-packages\\sklearn\\utils\\_set_output.py:140\u001b[0m, in \u001b[0;36m_wrap_method_output.<locals>.wrapped\u001b[1;34m(self, X, *args, **kwargs)\u001b[0m\n\u001b[0;32m    138\u001b[0m \u001b[38;5;129m@wraps\u001b[39m(f)\n\u001b[0;32m    139\u001b[0m \u001b[38;5;28;01mdef\u001b[39;00m \u001b[38;5;21mwrapped\u001b[39m(\u001b[38;5;28mself\u001b[39m, X, \u001b[38;5;241m*\u001b[39margs, \u001b[38;5;241m*\u001b[39m\u001b[38;5;241m*\u001b[39mkwargs):\n\u001b[1;32m--> 140\u001b[0m     data_to_wrap \u001b[38;5;241m=\u001b[39m f(\u001b[38;5;28mself\u001b[39m, X, \u001b[38;5;241m*\u001b[39margs, \u001b[38;5;241m*\u001b[39m\u001b[38;5;241m*\u001b[39mkwargs)\n\u001b[0;32m    141\u001b[0m     \u001b[38;5;28;01mif\u001b[39;00m \u001b[38;5;28misinstance\u001b[39m(data_to_wrap, \u001b[38;5;28mtuple\u001b[39m):\n\u001b[0;32m    142\u001b[0m         \u001b[38;5;66;03m# only wrap the first output for cross decomposition\u001b[39;00m\n\u001b[0;32m    143\u001b[0m         \u001b[38;5;28;01mreturn\u001b[39;00m (\n\u001b[0;32m    144\u001b[0m             _wrap_data_with_container(method, data_to_wrap[\u001b[38;5;241m0\u001b[39m], X, \u001b[38;5;28mself\u001b[39m),\n\u001b[0;32m    145\u001b[0m             \u001b[38;5;241m*\u001b[39mdata_to_wrap[\u001b[38;5;241m1\u001b[39m:],\n\u001b[0;32m    146\u001b[0m         )\n",
      "File \u001b[1;32m~\\anaconda3\\envs\\testing\\lib\\site-packages\\sklearn\\decomposition\\_pca.py:462\u001b[0m, in \u001b[0;36mPCA.fit_transform\u001b[1;34m(self, X, y)\u001b[0m\n\u001b[0;32m    439\u001b[0m \u001b[38;5;250m\u001b[39m\u001b[38;5;124;03m\"\"\"Fit the model with X and apply the dimensionality reduction on X.\u001b[39;00m\n\u001b[0;32m    440\u001b[0m \n\u001b[0;32m    441\u001b[0m \u001b[38;5;124;03mParameters\u001b[39;00m\n\u001b[1;32m   (...)\u001b[0m\n\u001b[0;32m    458\u001b[0m \u001b[38;5;124;03mC-ordered array, use 'np.ascontiguousarray'.\u001b[39;00m\n\u001b[0;32m    459\u001b[0m \u001b[38;5;124;03m\"\"\"\u001b[39;00m\n\u001b[0;32m    460\u001b[0m \u001b[38;5;28mself\u001b[39m\u001b[38;5;241m.\u001b[39m_validate_params()\n\u001b[1;32m--> 462\u001b[0m U, S, Vt \u001b[38;5;241m=\u001b[39m \u001b[38;5;28;43mself\u001b[39;49m\u001b[38;5;241;43m.\u001b[39;49m\u001b[43m_fit\u001b[49m\u001b[43m(\u001b[49m\u001b[43mX\u001b[49m\u001b[43m)\u001b[49m\n\u001b[0;32m    463\u001b[0m U \u001b[38;5;241m=\u001b[39m U[:, : \u001b[38;5;28mself\u001b[39m\u001b[38;5;241m.\u001b[39mn_components_]\n\u001b[0;32m    465\u001b[0m \u001b[38;5;28;01mif\u001b[39;00m \u001b[38;5;28mself\u001b[39m\u001b[38;5;241m.\u001b[39mwhiten:\n\u001b[0;32m    466\u001b[0m     \u001b[38;5;66;03m# X_new = X * V / S * sqrt(n_samples) = U * sqrt(n_samples)\u001b[39;00m\n",
      "File \u001b[1;32m~\\anaconda3\\envs\\testing\\lib\\site-packages\\sklearn\\decomposition\\_pca.py:485\u001b[0m, in \u001b[0;36mPCA._fit\u001b[1;34m(self, X)\u001b[0m\n\u001b[0;32m    479\u001b[0m \u001b[38;5;28;01mif\u001b[39;00m issparse(X):\n\u001b[0;32m    480\u001b[0m     \u001b[38;5;28;01mraise\u001b[39;00m \u001b[38;5;167;01mTypeError\u001b[39;00m(\n\u001b[0;32m    481\u001b[0m         \u001b[38;5;124m\"\u001b[39m\u001b[38;5;124mPCA does not support sparse input. See \u001b[39m\u001b[38;5;124m\"\u001b[39m\n\u001b[0;32m    482\u001b[0m         \u001b[38;5;124m\"\u001b[39m\u001b[38;5;124mTruncatedSVD for a possible alternative.\u001b[39m\u001b[38;5;124m\"\u001b[39m\n\u001b[0;32m    483\u001b[0m     )\n\u001b[1;32m--> 485\u001b[0m X \u001b[38;5;241m=\u001b[39m \u001b[38;5;28;43mself\u001b[39;49m\u001b[38;5;241;43m.\u001b[39;49m\u001b[43m_validate_data\u001b[49m\u001b[43m(\u001b[49m\n\u001b[0;32m    486\u001b[0m \u001b[43m    \u001b[49m\u001b[43mX\u001b[49m\u001b[43m,\u001b[49m\u001b[43m \u001b[49m\u001b[43mdtype\u001b[49m\u001b[38;5;241;43m=\u001b[39;49m\u001b[43m[\u001b[49m\u001b[43mnp\u001b[49m\u001b[38;5;241;43m.\u001b[39;49m\u001b[43mfloat64\u001b[49m\u001b[43m,\u001b[49m\u001b[43m \u001b[49m\u001b[43mnp\u001b[49m\u001b[38;5;241;43m.\u001b[39;49m\u001b[43mfloat32\u001b[49m\u001b[43m]\u001b[49m\u001b[43m,\u001b[49m\u001b[43m \u001b[49m\u001b[43mensure_2d\u001b[49m\u001b[38;5;241;43m=\u001b[39;49m\u001b[38;5;28;43;01mTrue\u001b[39;49;00m\u001b[43m,\u001b[49m\u001b[43m \u001b[49m\u001b[43mcopy\u001b[49m\u001b[38;5;241;43m=\u001b[39;49m\u001b[38;5;28;43mself\u001b[39;49m\u001b[38;5;241;43m.\u001b[39;49m\u001b[43mcopy\u001b[49m\n\u001b[0;32m    487\u001b[0m \u001b[43m\u001b[49m\u001b[43m)\u001b[49m\n\u001b[0;32m    489\u001b[0m \u001b[38;5;66;03m# Handle n_components==None\u001b[39;00m\n\u001b[0;32m    490\u001b[0m \u001b[38;5;28;01mif\u001b[39;00m \u001b[38;5;28mself\u001b[39m\u001b[38;5;241m.\u001b[39mn_components \u001b[38;5;129;01mis\u001b[39;00m \u001b[38;5;28;01mNone\u001b[39;00m:\n",
      "File \u001b[1;32m~\\anaconda3\\envs\\testing\\lib\\site-packages\\sklearn\\base.py:565\u001b[0m, in \u001b[0;36mBaseEstimator._validate_data\u001b[1;34m(self, X, y, reset, validate_separately, **check_params)\u001b[0m\n\u001b[0;32m    563\u001b[0m     \u001b[38;5;28;01mraise\u001b[39;00m \u001b[38;5;167;01mValueError\u001b[39;00m(\u001b[38;5;124m\"\u001b[39m\u001b[38;5;124mValidation should be done on X, y or both.\u001b[39m\u001b[38;5;124m\"\u001b[39m)\n\u001b[0;32m    564\u001b[0m \u001b[38;5;28;01melif\u001b[39;00m \u001b[38;5;129;01mnot\u001b[39;00m no_val_X \u001b[38;5;129;01mand\u001b[39;00m no_val_y:\n\u001b[1;32m--> 565\u001b[0m     X \u001b[38;5;241m=\u001b[39m check_array(X, input_name\u001b[38;5;241m=\u001b[39m\u001b[38;5;124m\"\u001b[39m\u001b[38;5;124mX\u001b[39m\u001b[38;5;124m\"\u001b[39m, \u001b[38;5;241m*\u001b[39m\u001b[38;5;241m*\u001b[39mcheck_params)\n\u001b[0;32m    566\u001b[0m     out \u001b[38;5;241m=\u001b[39m X\n\u001b[0;32m    567\u001b[0m \u001b[38;5;28;01melif\u001b[39;00m no_val_X \u001b[38;5;129;01mand\u001b[39;00m \u001b[38;5;129;01mnot\u001b[39;00m no_val_y:\n",
      "File \u001b[1;32m~\\anaconda3\\envs\\testing\\lib\\site-packages\\sklearn\\utils\\validation.py:879\u001b[0m, in \u001b[0;36mcheck_array\u001b[1;34m(array, accept_sparse, accept_large_sparse, dtype, order, copy, force_all_finite, ensure_2d, allow_nd, ensure_min_samples, ensure_min_features, estimator, input_name)\u001b[0m\n\u001b[0;32m    877\u001b[0m         array \u001b[38;5;241m=\u001b[39m xp\u001b[38;5;241m.\u001b[39mastype(array, dtype, copy\u001b[38;5;241m=\u001b[39m\u001b[38;5;28;01mFalse\u001b[39;00m)\n\u001b[0;32m    878\u001b[0m     \u001b[38;5;28;01melse\u001b[39;00m:\n\u001b[1;32m--> 879\u001b[0m         array \u001b[38;5;241m=\u001b[39m \u001b[43m_asarray_with_order\u001b[49m\u001b[43m(\u001b[49m\u001b[43marray\u001b[49m\u001b[43m,\u001b[49m\u001b[43m \u001b[49m\u001b[43morder\u001b[49m\u001b[38;5;241;43m=\u001b[39;49m\u001b[43morder\u001b[49m\u001b[43m,\u001b[49m\u001b[43m \u001b[49m\u001b[43mdtype\u001b[49m\u001b[38;5;241;43m=\u001b[39;49m\u001b[43mdtype\u001b[49m\u001b[43m,\u001b[49m\u001b[43m \u001b[49m\u001b[43mxp\u001b[49m\u001b[38;5;241;43m=\u001b[39;49m\u001b[43mxp\u001b[49m\u001b[43m)\u001b[49m\n\u001b[0;32m    880\u001b[0m \u001b[38;5;28;01mexcept\u001b[39;00m ComplexWarning \u001b[38;5;28;01mas\u001b[39;00m complex_warning:\n\u001b[0;32m    881\u001b[0m     \u001b[38;5;28;01mraise\u001b[39;00m \u001b[38;5;167;01mValueError\u001b[39;00m(\n\u001b[0;32m    882\u001b[0m         \u001b[38;5;124m\"\u001b[39m\u001b[38;5;124mComplex data not supported\u001b[39m\u001b[38;5;130;01m\\n\u001b[39;00m\u001b[38;5;132;01m{}\u001b[39;00m\u001b[38;5;130;01m\\n\u001b[39;00m\u001b[38;5;124m\"\u001b[39m\u001b[38;5;241m.\u001b[39mformat(array)\n\u001b[0;32m    883\u001b[0m     ) \u001b[38;5;28;01mfrom\u001b[39;00m \u001b[38;5;21;01mcomplex_warning\u001b[39;00m\n",
      "File \u001b[1;32m~\\anaconda3\\envs\\testing\\lib\\site-packages\\sklearn\\utils\\_array_api.py:185\u001b[0m, in \u001b[0;36m_asarray_with_order\u001b[1;34m(array, dtype, order, copy, xp)\u001b[0m\n\u001b[0;32m    182\u001b[0m     xp, _ \u001b[38;5;241m=\u001b[39m get_namespace(array)\n\u001b[0;32m    183\u001b[0m \u001b[38;5;28;01mif\u001b[39;00m xp\u001b[38;5;241m.\u001b[39m\u001b[38;5;18m__name__\u001b[39m \u001b[38;5;129;01min\u001b[39;00m {\u001b[38;5;124m\"\u001b[39m\u001b[38;5;124mnumpy\u001b[39m\u001b[38;5;124m\"\u001b[39m, \u001b[38;5;124m\"\u001b[39m\u001b[38;5;124mnumpy.array_api\u001b[39m\u001b[38;5;124m\"\u001b[39m}:\n\u001b[0;32m    184\u001b[0m     \u001b[38;5;66;03m# Use NumPy API to support order\u001b[39;00m\n\u001b[1;32m--> 185\u001b[0m     array \u001b[38;5;241m=\u001b[39m \u001b[43mnumpy\u001b[49m\u001b[38;5;241;43m.\u001b[39;49m\u001b[43masarray\u001b[49m\u001b[43m(\u001b[49m\u001b[43marray\u001b[49m\u001b[43m,\u001b[49m\u001b[43m \u001b[49m\u001b[43morder\u001b[49m\u001b[38;5;241;43m=\u001b[39;49m\u001b[43morder\u001b[49m\u001b[43m,\u001b[49m\u001b[43m \u001b[49m\u001b[43mdtype\u001b[49m\u001b[38;5;241;43m=\u001b[39;49m\u001b[43mdtype\u001b[49m\u001b[43m)\u001b[49m\n\u001b[0;32m    186\u001b[0m     \u001b[38;5;28;01mreturn\u001b[39;00m xp\u001b[38;5;241m.\u001b[39masarray(array, copy\u001b[38;5;241m=\u001b[39mcopy)\n\u001b[0;32m    187\u001b[0m \u001b[38;5;28;01melse\u001b[39;00m:\n",
      "File \u001b[1;32m~\\anaconda3\\envs\\testing\\lib\\site-packages\\pandas\\core\\generic.py:2070\u001b[0m, in \u001b[0;36mNDFrame.__array__\u001b[1;34m(self, dtype)\u001b[0m\n\u001b[0;32m   2069\u001b[0m \u001b[38;5;28;01mdef\u001b[39;00m \u001b[38;5;21m__array__\u001b[39m(\u001b[38;5;28mself\u001b[39m, dtype: npt\u001b[38;5;241m.\u001b[39mDTypeLike \u001b[38;5;241m|\u001b[39m \u001b[38;5;28;01mNone\u001b[39;00m \u001b[38;5;241m=\u001b[39m \u001b[38;5;28;01mNone\u001b[39;00m) \u001b[38;5;241m-\u001b[39m\u001b[38;5;241m>\u001b[39m np\u001b[38;5;241m.\u001b[39mndarray:\n\u001b[1;32m-> 2070\u001b[0m     \u001b[38;5;28;01mreturn\u001b[39;00m \u001b[43mnp\u001b[49m\u001b[38;5;241;43m.\u001b[39;49m\u001b[43masarray\u001b[49m\u001b[43m(\u001b[49m\u001b[38;5;28;43mself\u001b[39;49m\u001b[38;5;241;43m.\u001b[39;49m\u001b[43m_values\u001b[49m\u001b[43m,\u001b[49m\u001b[43m \u001b[49m\u001b[43mdtype\u001b[49m\u001b[38;5;241;43m=\u001b[39;49m\u001b[43mdtype\u001b[49m\u001b[43m)\u001b[49m\n",
      "\u001b[1;31mValueError\u001b[0m: could not convert string to float: 'Aguas Minerais'"
     ]
    }
   ],
   "source": [
    "#Use regularization to deal with text data\n",
    "from sklearn.decomposition import PCA\n",
    "\n",
    "pca = PCA(n_components=10)\n",
    "df_pca= pd.DataFrame(pca.fit_transform(df_nodate))\n",
    "print(df_pca.head())"
   ]
  },
  {
   "cell_type": "code",
   "execution_count": null,
   "id": "cd8e7cf7-6364-473a-844b-7e0826893021",
   "metadata": {},
   "outputs": [],
   "source": []
  }
 ],
 "metadata": {
  "kernelspec": {
   "display_name": "Python 3 (ipykernel)",
   "language": "python",
   "name": "python3"
  },
  "language_info": {
   "codemirror_mode": {
    "name": "ipython",
    "version": 3
   },
   "file_extension": ".py",
   "mimetype": "text/x-python",
   "name": "python",
   "nbconvert_exporter": "python",
   "pygments_lexer": "ipython3",
   "version": "3.9.12"
  }
 },
 "nbformat": 4,
 "nbformat_minor": 5
}
